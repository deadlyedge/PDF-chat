{
 "cells": [
  {
   "cell_type": "code",
   "execution_count": 9,
   "metadata": {},
   "outputs": [
    {
     "data": {
      "text/plain": [
       "AIMessage(content=' 1.分式方程：\\n$$\\\\frac{5}{x+2}=\\\\frac{2}{x-1}$$\\n通分后有：\\n$$5(x-1)=2(x+2)$$\\n化简得：\\n$$3x=-9$$\\n即\\n$$x=-3$$\\n2.分式方程：\\n$$\\\\frac{2}{x+1}-\\\\frac{3}{1-x^2}=\\\\frac{6}{x-1}$$\\n通分后有：\\n$$2(1-x^2)-3(x+1)=6(x+1)$$\\n化简得：\\n$$-5x^2-11x-10=0$$\\n即\\n$$(x-2)(5x+5)=0$$\\n即\\n$$x=2,-\\\\frac{1}{5}$$\\n17.(1)用a表示y：\\n$$y=a+b-2,y-2ab=a^2+b^2$$\\n联立方程组消去y，得：\\n$$a+b-2-2ab=a^2+b^2$$\\n即\\n$$a(a-2b-1)+b(b-2)=0$$\\n因为a，b都是实数，所以\\n$$a=2b+1,b=2$$\\n所以\\n$$y=2b+1-2=2b-1=2\\\\times2-1=3$$\\n(2)用待定系数法，令\\n$$\\\\frac{4}{x}-\\\\frac{4}{y}+\\\\frac{2}{x+2}=A\\\\frac{1}{x}+B\\\\frac{1}{y}+\\\\frac{C}{x+2}$$\\n即\\n$$4(y-x+2)+4(x+2)+2y(x-y)=Axy+B(x+2)y+C(x-y)$$\\n整理得：\\n$$(4y-4x+8)+(4x+8)+(2xy-2y^2)=(Ax+C)y+Bxy+2By$$\\n所以：\\n$$\\\\begin{cases}4y-4x+8=2By\\\\\\\\\\\\4x+8=Ax+Bxy+C\\\\\\\\\\\\2xy-2y^2=Bxy+2By\\\\end{cases}$$\\n联立方程组消去B，得：\\n$$\\\\begin{cases}4y-4x+8=2By\\\\\\\\\\\\4x+8=Ax+C\\\\\\\\\\\\2xy-2y^2=2By\\\\end{cases}\\\\Rightarrow\\\\begin{cases}4y-4x+8=2(2xy-2y^2)\\\\\\\\\\\\4x+8=Ax+C\\\\\\\\\\\\2xy-2y^2=2By\\\\end{cases}$$\\n即\\n$$\\\\begin{cases}4y-4x+8=4xy-4y^2\\\\\\\\\\\\4x+8=Ax+C\\\\\\\\\\\\2xy-2y^2=2By\\\\end{cases}$$\\n所以：\\n$$A=-4,C=8-4x$$\\n所以：\\n$$\\\\frac{4}{x}-\\\\frac{4}{y}+\\\\frac{2}{x+2}=-4\\\\frac{1}{x}+0\\\\frac{1}{y}+\\\\frac{8-4x}{x+2}$$')"
      ]
     },
     "execution_count": 9,
     "metadata": {},
     "output_type": "execute_result"
    }
   ],
   "source": [
    "from langchain_core.messages import HumanMessage\n",
    "from langchain_google_genai import ChatGoogleGenerativeAI\n",
    "from dotenv import load_dotenv\n",
    "load_dotenv()\n",
    "\n",
    "llm = ChatGoogleGenerativeAI(model=\"gemini-pro-vision\") # type: ignore\n",
    "# example\n",
    "message = HumanMessage(\n",
    "    content=[\n",
    "        {\n",
    "            \"type\": \"text\",\n",
    "            \"text\": \"please solve these questions.\",\n",
    "        },\n",
    "        {\"type\": \"image_url\", \"image_url\": \"../data/multi.png\"},\n",
    "    ]\n",
    ")\n",
    "llm.invoke([message])"
   ]
  },
  {
   "cell_type": "code",
   "execution_count": null,
   "metadata": {},
   "outputs": [],
   "source": [
    "from PIL import Image\n",
    "\n",
    "def show_image(path):\n",
    "  image = Image.open(path)\n",
    "  display(image)\n",
    "\n",
    "show_image('../data/single.png')"
   ]
  },
  {
   "cell_type": "markdown",
   "metadata": {},
   "source": [
    "https://1drv.ms/i/s!AunhPwigGEORsSCuWOp3zgY1Ws_C?e=4Lzcej"
   ]
  },
  {
   "cell_type": "code",
   "execution_count": null,
   "metadata": {},
   "outputs": [],
   "source": []
  }
 ],
 "metadata": {
  "kernelspec": {
   "display_name": ".venv",
   "language": "python",
   "name": "python3"
  },
  "language_info": {
   "codemirror_mode": {
    "name": "ipython",
    "version": 3
   },
   "file_extension": ".py",
   "mimetype": "text/x-python",
   "name": "python",
   "nbconvert_exporter": "python",
   "pygments_lexer": "ipython3",
   "version": "3.12.1"
  }
 },
 "nbformat": 4,
 "nbformat_minor": 2
}
